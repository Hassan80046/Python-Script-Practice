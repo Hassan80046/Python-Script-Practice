{
 "cells": [
  {
   "cell_type": "code",
   "execution_count": null,
   "metadata": {},
   "outputs": [],
   "source": [
    "def myfunc(name):\n",
    "    c=0\n",
    "    word=[]\n",
    "    for alphabet in name:\n",
    "        c=c+1\n",
    "        if c%2==0:\n",
    "            word.append(alphabet.upper())\n",
    "        else:\n",
    "            word.append(alphabet.lower())\n",
    "    string1=''.join(word)\n",
    "    print(string1)\n",
    "    return string1"
   ]
  }
 ],
 "metadata": {
  "kernelspec": {
   "display_name": "Python 3",
   "language": "python",
   "name": "python3"
  },
  "language_info": {
   "codemirror_mode": {
    "name": "ipython",
    "version": 3
   },
   "file_extension": ".py",
   "mimetype": "text/x-python",
   "name": "python",
   "nbconvert_exporter": "python",
   "pygments_lexer": "ipython3",
   "version": "3.6.5"
  }
 },
 "nbformat": 4,
 "nbformat_minor": 2
}
